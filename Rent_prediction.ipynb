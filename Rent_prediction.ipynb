{
  "nbformat": 4,
  "nbformat_minor": 0,
  "metadata": {
    "colab": {
      "provenance": [],
      "authorship_tag": "ABX9TyOlwGhu7ibObBjgx1EwIYZ8",
      "include_colab_link": true
    },
    "kernelspec": {
      "name": "python3",
      "display_name": "Python 3"
    },
    "language_info": {
      "name": "python"
    }
  },
  "cells": [
    {
      "cell_type": "markdown",
      "metadata": {
        "id": "view-in-github",
        "colab_type": "text"
      },
      "source": [
        "<a href=\"https://colab.research.google.com/github/MeghanaAkkineni/MeghanaAkkineni/blob/main/Rent_prediction.ipynb\" target=\"_parent\"><img src=\"https://colab.research.google.com/assets/colab-badge.svg\" alt=\"Open In Colab\"/></a>"
      ]
    },
    {
      "cell_type": "code",
      "execution_count": null,
      "metadata": {
        "id": "AcF9cEDgfTYP"
      },
      "outputs": [],
      "source": [
        "import pickle"
      ]
    },
    {
      "cell_type": "code",
      "source": [
        "l = pickle.load(open('/content/rent.pkl','rb'))"
      ],
      "metadata": {
        "id": "n9ZpQdYYfYIn"
      },
      "execution_count": null,
      "outputs": []
    },
    {
      "cell_type": "code",
      "source": [
        "l.predict([[26,2,1100,455,2,221,4,2,1,2,2]])"
      ],
      "metadata": {
        "colab": {
          "base_uri": "https://localhost:8080/"
        },
        "id": "cwoCsOOgfmoN",
        "outputId": "fbae0ffa-0dff-4a0c-f232-e97662c608e4"
      },
      "execution_count": null,
      "outputs": [
        {
          "output_type": "stream",
          "name": "stderr",
          "text": [
            "/usr/local/lib/python3.11/dist-packages/sklearn/utils/validation.py:2739: UserWarning: X does not have valid feature names, but LogisticRegression was fitted with feature names\n",
            "  warnings.warn(\n"
          ]
        },
        {
          "output_type": "execute_result",
          "data": {
            "text/plain": [
              "array([30000])"
            ]
          },
          "metadata": {},
          "execution_count": 4
        }
      ]
    },
    {
      "cell_type": "code",
      "source": [
        "l.predict([[22,1,900,450,1,220,2,1,0,1,0]])"
      ],
      "metadata": {
        "colab": {
          "base_uri": "https://localhost:8080/"
        },
        "id": "jV0O5CWRgg30",
        "outputId": "b60c837a-a63e-48b4-c692-7f32db22b34f"
      },
      "execution_count": null,
      "outputs": [
        {
          "output_type": "stream",
          "name": "stderr",
          "text": [
            "/usr/local/lib/python3.11/dist-packages/sklearn/utils/validation.py:2739: UserWarning: X does not have valid feature names, but LogisticRegression was fitted with feature names\n",
            "  warnings.warn(\n"
          ]
        },
        {
          "output_type": "execute_result",
          "data": {
            "text/plain": [
              "array([15000])"
            ]
          },
          "metadata": {},
          "execution_count": 5
        }
      ]
    },
    {
      "cell_type": "code",
      "source": [
        "# User Input (modified to accept actual values)\n",
        "posted_on = input(\"Posted On (Enter actual category): \")\n",
        "floor = input(\"Floor (Enter actual category): \")\n",
        "area_type = input(\"Area Type (Enter actual category): \")\n",
        "area_locality = input(\"Area Locality (Enter actual category): \")\n",
        "city = input(\"City (Enter actual category): \")\n",
        "furnishing_status = input(\"Furnishing Status (Enter actual category): \")\n",
        "tenant_preferred = input(\"Tenant Preferred (Enter actual category): \")\n",
        "point_of_contact = input(\"Point of Contact (Enter actual category): \")\n"
      ],
      "metadata": {
        "id": "sYbGUSN8hOK8",
        "colab": {
          "base_uri": "https://localhost:8080/"
        },
        "outputId": "cc348a1c-5f3a-4b50-80fc-7575d686aa1d"
      },
      "execution_count": null,
      "outputs": [
        {
          "name": "stdout",
          "output_type": "stream",
          "text": [
            "Posted On (Enter actual category): fg\n",
            "Floor (Enter actual category): 3\n",
            "Area Type (Enter actual category): ffgh\n",
            "Area Locality (Enter actual category): dgh\n",
            "City (Enter actual category): gf\n",
            "Furnishing Status (Enter actual category): trytr\n",
            "Tenant Preferred (Enter actual category): rthj\n",
            "Point of Contact (Enter actual category): vbnty\n"
          ]
        }
      ]
    },
    {
      "cell_type": "code",
      "source": [],
      "metadata": {
        "id": "6mZNzLGMas7z"
      },
      "execution_count": null,
      "outputs": []
    }
  ]
}